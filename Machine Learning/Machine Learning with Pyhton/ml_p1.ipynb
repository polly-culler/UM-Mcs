{
  "nbformat": 4,
  "nbformat_minor": 0,
  "metadata": {
    "colab": {
      "name": "ml_p1.ipynb",
      "provenance": [],
      "collapsed_sections": [],
      "mount_file_id": "114Mr9rHO81YlpvTnTJlYNHWfqY9Bdpof",
      "authorship_tag": "ABX9TyO/62/DxqvGrEOfsIRKclqG",
      "include_colab_link": true
    },
    "kernelspec": {
      "name": "python3",
      "display_name": "Python 3"
    },
    "language_info": {
      "name": "python"
    }
  },
  "cells": [
    {
      "cell_type": "markdown",
      "metadata": {
        "id": "view-in-github",
        "colab_type": "text"
      },
      "source": [
        "<a href=\"https://colab.research.google.com/github/polly-culler/UM-Mcs/blob/main/Machine%20Learning/Machine%20Learning%20with%20Pyhton/ml_p1.ipynb\" target=\"_parent\"><img src=\"https://colab.research.google.com/assets/colab-badge.svg\" alt=\"Open In Colab\"/></a>"
      ]
    },
    {
      "cell_type": "code",
      "source": [
        "from google.colab import drive\n",
        "drive.mount('/content/drive')"
      ],
      "metadata": {
        "colab": {
          "base_uri": "https://localhost:8080/"
        },
        "id": "T-RYsqQi1pQT",
        "outputId": "04bca033-7057-4583-9bc7-5ae828951d92"
      },
      "execution_count": null,
      "outputs": [
        {
          "output_type": "stream",
          "name": "stdout",
          "text": [
            "Mounted at /content/drive\n"
          ]
        }
      ]
    },
    {
      "cell_type": "code",
      "source": [
        "!pip install --upgrade quandl"
      ],
      "metadata": {
        "colab": {
          "base_uri": "https://localhost:8080/"
        },
        "id": "Fg5Kff-_44qy",
        "outputId": "00a1978a-8c35-44f7-857c-5fadc11d77af"
      },
      "execution_count": null,
      "outputs": [
        {
          "output_type": "stream",
          "name": "stdout",
          "text": [
            "Collecting quandl\n",
            "  Downloading Quandl-3.7.0-py2.py3-none-any.whl (26 kB)\n",
            "Requirement already satisfied: more-itertools in /usr/local/lib/python3.7/dist-packages (from quandl) (8.12.0)\n",
            "Requirement already satisfied: requests>=2.7.0 in /usr/local/lib/python3.7/dist-packages (from quandl) (2.23.0)\n",
            "Requirement already satisfied: six in /usr/local/lib/python3.7/dist-packages (from quandl) (1.15.0)\n",
            "Requirement already satisfied: python-dateutil in /usr/local/lib/python3.7/dist-packages (from quandl) (2.8.2)\n",
            "Requirement already satisfied: numpy>=1.8 in /usr/local/lib/python3.7/dist-packages (from quandl) (1.21.6)\n",
            "Requirement already satisfied: pandas>=0.14 in /usr/local/lib/python3.7/dist-packages (from quandl) (1.3.5)\n",
            "Collecting inflection>=0.3.1\n",
            "  Downloading inflection-0.5.1-py2.py3-none-any.whl (9.5 kB)\n",
            "Requirement already satisfied: pytz>=2017.3 in /usr/local/lib/python3.7/dist-packages (from pandas>=0.14->quandl) (2022.1)\n",
            "Requirement already satisfied: chardet<4,>=3.0.2 in /usr/local/lib/python3.7/dist-packages (from requests>=2.7.0->quandl) (3.0.4)\n",
            "Requirement already satisfied: idna<3,>=2.5 in /usr/local/lib/python3.7/dist-packages (from requests>=2.7.0->quandl) (2.10)\n",
            "Requirement already satisfied: urllib3!=1.25.0,!=1.25.1,<1.26,>=1.21.1 in /usr/local/lib/python3.7/dist-packages (from requests>=2.7.0->quandl) (1.24.3)\n",
            "Requirement already satisfied: certifi>=2017.4.17 in /usr/local/lib/python3.7/dist-packages (from requests>=2.7.0->quandl) (2021.10.8)\n",
            "Installing collected packages: inflection, quandl\n",
            "Successfully installed inflection-0.5.1 quandl-3.7.0\n"
          ]
        }
      ]
    },
    {
      "cell_type": "markdown",
      "source": [
        "# P2"
      ],
      "metadata": {
        "id": "Ghkmq7so81ym"
      }
    },
    {
      "cell_type": "code",
      "execution_count": null,
      "metadata": {
        "colab": {
          "base_uri": "https://localhost:8080/"
        },
        "id": "nA_tv17k1ejn",
        "outputId": "bb6fa7f6-5bb2-4c41-9040-d1b544c63313"
      },
      "outputs": [
        {
          "output_type": "stream",
          "name": "stdout",
          "text": [
            "             Adj. Close    HL_PCT  PCT_change  Adj. Volume\n",
            "Date                                                      \n",
            "2004-08-19    50.322842  3.712563    0.324968   44659000.0\n",
            "2004-08-20    54.322689  0.710922    7.227007   22834300.0\n",
            "2004-08-23    54.869377  3.729433   -1.227880   18256100.0\n",
            "2004-08-24    52.597363  6.417469   -5.726357   15247300.0\n",
            "2004-08-25    53.164113  1.886792    1.183658    9188600.0\n",
            "...                 ...       ...         ...          ...\n",
            "2018-03-21  1094.000000  1.343693    0.130884    1990515.0\n",
            "2018-03-22  1053.150000  2.921711   -2.487014    3418154.0\n",
            "2018-03-23  1026.550000  3.918952   -2.360729    2413517.0\n",
            "2018-03-26  1054.090000  0.491419    0.332191    3272409.0\n",
            "2018-03-27  1006.940000  5.720301   -5.353887    2940957.0\n",
            "\n",
            "[3424 rows x 4 columns]\n"
          ]
        }
      ],
      "source": [
        "import pandas as pd\n",
        "import quandl\n",
        "\n",
        "df = quandl.get('WIKI/GOOGL')\n",
        "df = df[['Adj. Open','Adj. High','Adj. Low','Adj. Close','Adj. Volume']]\n",
        "df['HL_PCT'] = (df['Adj. High'] - df['Adj. Close']) / df['Adj. Close'] * 100.0\n",
        "df['PCT_change'] = (df['Adj. Close'] - df['Adj. Open']) / df['Adj. Open'] * 100.0\n",
        "df = df[['Adj. Close','HL_PCT','PCT_change','Adj. Volume']]\n",
        "############################################P3#############################\n",
        "forecast_col = 'Adj. Close'\n",
        "df.fillna(-99999, inplace = True)# fillna = fill a not a variable, in pandas means fill with not a number\n",
        "\n",
        "forcast_out = "
      ]
    }
  ]
}